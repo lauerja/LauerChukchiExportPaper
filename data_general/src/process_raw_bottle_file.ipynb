{
 "cells": [
  {
   "cell_type": "code",
   "execution_count": 11,
   "metadata": {},
   "outputs": [],
   "source": [
    "import pandas as pd"
   ]
  },
  {
   "cell_type": "code",
   "execution_count": 12,
   "metadata": {},
   "outputs": [],
   "source": [
    "source_dir = '../data_ctd_raw/'\n",
    "save_dir = '../processed_data/'"
   ]
  },
  {
   "cell_type": "code",
   "execution_count": 13,
   "metadata": {},
   "outputs": [],
   "source": [
    "data_file = source_dir + 'SKQ202310S_hy1.csv'"
   ]
  },
  {
   "cell_type": "code",
   "execution_count": 14,
   "metadata": {},
   "outputs": [],
   "source": [
    "varnames = pd.read_csv(data_file, header=None, skiprows=1, nrows=1)\n",
    "\n",
    "units = pd.read_csv(data_file, header=None, skiprows=2, nrows=1)\n",
    "\n",
    "# create empty list to store combined varname and unit string\n",
    "column_names = []\n",
    "# combine the string\n",
    "for varnames, units in zip(varnames.values[0], units.values[0]):\n",
    "# if there is a unit, combine with varname to make new colname\n",
    "    if pd.notna(units):\n",
    "        column_names.append(str(varnames) + '_' + str(units))\n",
    "# if no unit, varname is colname\n",
    "    else:\n",
    "        column_names.append(str(varnames))\n",
    "\n",
    "bottle_file = pd.read_csv(data_file, header=None, skiprows=3, names = column_names)\n",
    "\n",
    "# One useless row at end of each file - must cut\n",
    "bottle_file.drop(bottle_file[bottle_file['EXPOCODE'] == 'END_DATA'].index, inplace = True)\n",
    "\n",
    "# Used to save here, now making some further modifications\n",
    "# bottle_file.to_csv('../results/final_qc_bottle_file.csv', index=False)"
   ]
  },
  {
   "cell_type": "code",
   "execution_count": 15,
   "metadata": {},
   "outputs": [],
   "source": [
    "## Many SAMPNO NA values included - these are depths where a bottle was tripped but no sample was taken\n",
    "bottle_file.drop(bottle_file[bottle_file['SAMPNO'] == -999.0].index, inplace=True)\n",
    "# bottle_file"
   ]
  },
  {
   "cell_type": "code",
   "execution_count": 16,
   "metadata": {},
   "outputs": [],
   "source": [
    "# concatenate all the cast dataframes\n",
    "# ctd = pd.concat(list_of_cast_dataframes)\n",
    "\n",
    "# One useless row at end of each file - must cut\n",
    "# bottle_file.drop(bottle_file[bottle_file['CTDPRS_DBAR_BOTTLE'] == 'END_DATA'].index, inplace = True)\n",
    "\n",
    "# Make STNNBR an int, CTDPRS_DBAR swap to numeric - both were sorting lexically\n",
    "bottle_file['STNNBR'] = bottle_file['STNNBR'].astype(int)\n",
    "bottle_file['CTDPRS_DBAR_BOTTLE'] = pd.to_numeric(bottle_file['CTDPRS_DBAR_BOTTLE'])\n",
    "\n",
    "# after concat and drop, sort values by station then by pressure(depth), then reset indexing\n",
    "bottle_file = bottle_file.sort_values(by = ['STNNBR', 'CTDPRS_DBAR_BOTTLE'], ignore_index=True)"
   ]
  },
  {
   "cell_type": "code",
   "execution_count": 17,
   "metadata": {},
   "outputs": [],
   "source": [
    "# bottle_file"
   ]
  },
  {
   "cell_type": "code",
   "execution_count": 18,
   "metadata": {},
   "outputs": [
    {
     "name": "stdout",
     "output_type": "stream",
     "text": [
      "BS1\n",
      "BS3\n",
      "BS5\n",
      "BS7\n",
      "CN1\n",
      "CN2\n",
      "HR1\n",
      "T002 Trap Recovery\n",
      "HRE1\n",
      "CNS1\n",
      "CNS2\n",
      "HR2\n",
      "T003 Trap Recovery\n",
      "HRE2\n",
      "T004 Trap Recovery\n",
      "T005 Trap Recovery\n",
      "T006 Trap Recovery\n",
      "T007 Trap Recovery\n",
      "HR3\n",
      "HRE3\n",
      "T010 Trap Recovery\n",
      "T009 Trap Recovery\n",
      "T012 Trap Recovery\n",
      "T011 Trap Recovery\n",
      "CN3\n",
      "HR4\n",
      "HRE4\n",
      "T013 Trap Recovery\n",
      "CN4\n",
      "HR5\n",
      "T014 Trap Recovery\n",
      "T017 Trap Recovery\n",
      "T018 Trap Recovery\n",
      "HRE5\n",
      "T016 Trap Recovery\n",
      "T015 Trap Recovery\n",
      "CN6\n",
      "HR6\n",
      "T019 Trap Recovery\n",
      "T022 Trap Recovery\n",
      "HRE6\n",
      "T020 Trap Recovery\n",
      "CN7\n",
      "HR7\n",
      "T023 Trap Recovery\n",
      "T026 Recovery\n",
      "HRE7\n",
      "T025 Trap Recovery\n",
      "T024 Trap Recovery\n",
      "CN8\n",
      "HR8\n",
      "T027 Trap Recovery\n",
      "T029 Trap Recovery\n",
      "T028 Trap Recovery\n",
      "LB1\n",
      "DBO3\n",
      "ZZ\n",
      "BSR\n",
      "DBO2\n"
     ]
    }
   ],
   "source": [
    "## Add SECTION and LINE variables using regex\n",
    "\n",
    "# LINE is all letters before the first number in SECT_ID\n",
    "bottle_file['LINE'] = bottle_file['SECT_ID'].str.extract(r'([a-zA-Z]+)(?=\\d)', expand=False)\n",
    "\n",
    "# SECTION is all characters before the dash, or, if there is no dash, all characters in SECT_ID\n",
    "bottle_file['SECTION'] = bottle_file['SECT_ID'].str.split('-', expand=True)[0]\n",
    "\n",
    "# check that all lines appear:\n",
    "# bottle_file['LINE'].drop_duplicates()\n",
    "\n",
    "# check that all sections appear:\n",
    "for i in bottle_file['SECTION'].drop_duplicates():\n",
    "    print(i)"
   ]
  },
  {
   "cell_type": "code",
   "execution_count": 19,
   "metadata": {},
   "outputs": [],
   "source": [
    "# Convert Values to floats for use with GSW\n",
    "bottle_file['CTDPRS_DBAR_BOTTLE'] = bottle_file['CTDPRS_DBAR_BOTTLE'].astype(float)\n",
    "bottle_file['LONGITUDE'] = bottle_file['LONGITUDE'].astype(float)\n",
    "bottle_file['LATITUDE'] = bottle_file['LATITUDE'].astype(float)\n",
    "bottle_file['STNNBR'] = bottle_file['STNNBR'].astype(float)"
   ]
  },
  {
   "cell_type": "code",
   "execution_count": 20,
   "metadata": {},
   "outputs": [],
   "source": [
    "# write to csv here\n",
    "bottle_file.to_csv(save_dir + 'final_qc_bottle_file.csv', index=False)"
   ]
  }
 ],
 "metadata": {
  "kernelspec": {
   "display_name": "genericOcean",
   "language": "python",
   "name": "python3"
  },
  "language_info": {
   "codemirror_mode": {
    "name": "ipython",
    "version": 3
   },
   "file_extension": ".py",
   "mimetype": "text/x-python",
   "name": "python",
   "nbconvert_exporter": "python",
   "pygments_lexer": "ipython3",
   "version": "3.11.0"
  }
 },
 "nbformat": 4,
 "nbformat_minor": 2
}
